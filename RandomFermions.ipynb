{
 "cells": [
  {
   "cell_type": "markdown",
   "id": "9a7faf6f-c825-483e-9607-9291ef80bd83",
   "metadata": {},
   "source": [
    "# Sampling random pure free fermion states\n",
    "\n",
    "1. I recommend a clean `venv` to reproduce the results below.\n",
    "\n",
    "2. Start with `git clone https://github.com/keisuke-akira/Hoffman-Decomposition-and-the-Matchgate-Group.git`\n",
    "\n",
    "3. Then install `free-fermion-lib`"
   ]
  },
  {
   "cell_type": "markdown",
   "id": "5198943f-f2c1-4a7f-9190-8ec35fea0296",
   "metadata": {},
   "source": [
    "### Imports"
   ]
  },
  {
   "cell_type": "code",
   "execution_count": 1,
   "id": "d831932c-48ef-4c84-8237-a8b97935a5e7",
   "metadata": {},
   "outputs": [],
   "source": [
    "# I've used `git clone https://github.com/keisuke-akira/Hoffman-Decomposition-and-the-Matchgate-Group.git` to keep a local copy of the functions below.\n",
    "import sys, pathlib\n",
    "repo_dir = pathlib.Path(\"Hoffman-Decomposition-and-the-Matchgate-Group\").resolve()\n",
    "sys.path.append(str(repo_dir))\n",
    "\n",
    "# import everything for now\n",
    "from HoffmanDecomposition import *\n",
    "from MatchgateDecomposition import *"
   ]
  },
  {
   "cell_type": "markdown",
   "id": "fee0a51d-dd19-40f3-bed2-130e0ade24e3",
   "metadata": {},
   "source": [
    "### Test Matchgate conversions"
   ]
  },
  {
   "cell_type": "code",
   "execution_count": 2,
   "id": "17ea4e22-9f71-4626-8fe2-c67e27dfaa23",
   "metadata": {},
   "outputs": [
    {
     "name": "stdout",
     "output_type": "stream",
     "text": [
      "max error = 1.4432941020150352e-15\n"
     ]
    }
   ],
   "source": [
    "# quick test that the Matchgate library is working well.\n",
    "import numpy as np\n",
    "from scipy.stats import special_ortho_group\n",
    "\n",
    "# Number of sites\n",
    "N = 3\n",
    "# Generate a random rotation over the 2N Majoranas\n",
    "T = special_ortho_group.rvs(2*N)\n",
    "\n",
    "# Convert this rotation to a list of matchgates\n",
    "mg_list = RotationToMatchgates(np.matrix(T))\n",
    "\n",
    "maj_ops = FindMajoranaOperators(N)\n",
    "\n",
    "# Check that the two match by converting back\n",
    "T_back = MatchgatesToRotation(mg_list, majoranaList=maj_ops)\n",
    "print(\"max error =\", np.max(np.abs(np.asarray(T_back - T))))"
   ]
  },
  {
   "cell_type": "code",
   "execution_count": 3,
   "id": "2a2643ce-d2f0-41c9-add3-af80d0e28395",
   "metadata": {},
   "outputs": [
    {
     "name": "stdout",
     "output_type": "stream",
     "text": [
      "All two-qubit gates in the list are matchgates: True\n"
     ]
    }
   ],
   "source": [
    "# testing that the `RotationToMatchgates` generates a list of two-qubit matchgates. Uses `is_matchgate` function\n",
    "import ff\n",
    "from ff import is_matchgate\n",
    "results = []\n",
    "for (i, j), U2 in mg_list:\n",
    "    U = np.asarray(U2, dtype=complex)  # convert numpy.matrix -> ndarray\n",
    "    ok = is_matchgate(U)\n",
    "    results.append((i, j, bool(ok)))\n",
    "\n",
    "# ensure all gates passed\n",
    "all_ok = all(ok for _, _, ok in results)\n",
    "print(\"All two-qubit gates in the list are matchgates:\", all_ok)\n",
    "assert all_ok, \"Some entries failed the matchgate check!\""
   ]
  },
  {
   "cell_type": "markdown",
   "id": "52deebcf-99a4-419d-a8c1-ff74beba8028",
   "metadata": {},
   "source": [
    "### Test `free-fermion-lib` works well"
   ]
  },
  {
   "cell_type": "code",
   "execution_count": 4,
   "id": "8672c72c-d27b-492c-a398-18b128601a84",
   "metadata": {},
   "outputs": [
    {
     "name": "stdout",
     "output_type": "stream",
     "text": [
      "0\n"
     ]
    }
   ],
   "source": [
    "# Generate Jordan-Wigner operators for 3 sites\n",
    "n_sites = 3\n",
    "alphas = ff.jordan_wigner_alphas(n_sites)\n",
    "\n",
    "# Generate a Gaussian state\n",
    "rho = ff.random_FF_state(n_sites)\n",
    "# print(rho)\n",
    "\n",
    "# Compute correlation matrix\n",
    "gamma = ff.compute_2corr_matrix(rho, n_sites, alphas)\n",
    "# print(gamma)\n",
    "\n",
    "# Compute pfaffian of a skew-symmetric matrix\n",
    "skew_matrix = np.array([[0, 1, -2], [-1, 0, 3], [2, -3, 0]])\n",
    "pfaffian_value = ff.pf(skew_matrix)\n",
    "print(pfaffian_value)"
   ]
  },
  {
   "cell_type": "markdown",
   "id": "15249826-1679-43e5-abb2-67fd29d47f3c",
   "metadata": {},
   "source": [
    "## Using random matchgates to prepare a random state"
   ]
  },
  {
   "cell_type": "code",
   "execution_count": 5,
   "id": "e6f070ca-6d6a-423f-abcb-07005355024f",
   "metadata": {},
   "outputs": [
    {
     "name": "stdout",
     "output_type": "stream",
     "text": [
      "‖ψ‖ = 1.0\n",
      "first few amps: [0.86413207+0.06956603j 0.        +0.j         0.        +0.j\n",
      " 0.04709399-0.17660749j 0.        +0.j         0.12439468-0.11756247j\n",
      " 0.21841512+0.00396097j 0.        +0.j        ]\n"
     ]
    }
   ],
   "source": [
    "from scipy.linalg import logm, expm\n",
    "\n",
    "n_sites = 5  # number of modes/qubits\n",
    "\n",
    "# 1) Haar-random Majorana rotation T in SO(2n)\n",
    "T = special_ortho_group.rvs(2*n_sites)\n",
    "\n",
    "# 2) Build the quadratic generator on Hilbert space using James' Majoranas\n",
    "gam = ff.jordan_wigner_majoranas(n_sites)           # list [γ_0, ..., γ_{2n-1}], each 2^n x 2^n (Hermitian)\n",
    "A = logm(T)                  # A in so(2n) (skew-symmetric)\n",
    "A = np.real_if_close(A, tol=1e-10)\n",
    "A = 0.5 * (A - A.T)          # enforce skew symmetry numerically\n",
    "\n",
    "# K = (1/4) \\sum_{μ<ν} A_{μν} γ_μ γ_ν  (anti-Hermitian)\n",
    "d = gam[0].shape[0]\n",
    "K = np.zeros((d, d), dtype=complex)\n",
    "for mu in range(2*n_sites):\n",
    "    for nu in range(mu+1, 2*n_sites):\n",
    "        a = A[mu, nu]\n",
    "        if abs(a) > 1e-14:\n",
    "            K += (a/4.0) * (gam[mu] @ gam[nu])\n",
    "K = 0.5*(K - K.conj().T)     # clean up numerical anti-Hermiticity\n",
    "\n",
    "# 3) Exponentiate to get the Hilbert-space unitary and apply to |0...0>\n",
    "U = expm(K)                  # Gaussian unitary implementing T\n",
    "psi0 = np.zeros((d, 1), dtype=complex); psi0[0, 0] = 1.0\n",
    "psi = U @ psi0               # <-- this is T applied to |0>^{\\otimes n}\n",
    "\n",
    "# (optional) sanity checks\n",
    "import numpy.linalg as npl\n",
    "print(\"‖ψ‖ =\", float(npl.norm(psi)))\n",
    "print(\"first few amps:\", psi[:8, 0])"
   ]
  },
  {
   "cell_type": "code",
   "execution_count": 7,
   "id": "c9e13614-4a50-4a4b-afbb-d3b9d573e12e",
   "metadata": {},
   "outputs": [
    {
     "name": "stdout",
     "output_type": "stream",
     "text": [
      "Majorana covariance antisymmetry ‖G + G^T‖_F = 0.0\n",
      "Gaussian purity check            ‖G^2 + I‖_F = 1.2762460033366384e-15\n"
     ]
    }
   ],
   "source": [
    "# James' JW Majoranas (δ convention: {γ,γ} = I); different from mine!\n",
    "majoranas = ff.jordan_wigner_majoranas(n_sites)\n",
    "psi_dag = psi.conj().T\n",
    "\n",
    "# Majorana covariance: G_{μν} = i * < [γ_μ, γ_ν] >\n",
    "G = np.zeros((2*n_sites, 2*n_sites), dtype=float)\n",
    "for mu in range(2*n_sites):\n",
    "    for nu in range(2*n_sites):\n",
    "        comm = majoranas[mu] @ majoranas[nu] - majoranas[nu] @ majoranas[mu]\n",
    "        val = (psi_dag @ (comm @ psi)).item()   # scalar\n",
    "        G[mu, nu] = (1j * val).real             # should be real up to fp noise\n",
    "\n",
    "# Gaussianity / purity checks\n",
    "antisym_err = npl.norm(G + G.T, ord='fro')              # ~ 0\n",
    "purity_err  = npl.norm(G @ G + np.eye(2*n_sites), ord='fro')  # ~ 0 for pure Gaussian\n",
    "\n",
    "print(\"Majorana covariance antisymmetry ‖G + G^T‖_F =\", antisym_err)\n",
    "print(\"Gaussian purity check            ‖G^2 + I‖_F =\", purity_err)"
   ]
  },
  {
   "cell_type": "markdown",
   "id": "f0caeca1-cdeb-4c33-88d3-5d43d31a9d18",
   "metadata": {},
   "source": [
    "# Testing the 1-design nature of random FF states"
   ]
  },
  {
   "cell_type": "code",
   "execution_count": 12,
   "id": "db59fb07-9640-4b91-9429-b46f2b4fbcde",
   "metadata": {},
   "outputs": [
    {
     "data": {
      "text/plain": [
       "np.complex128(0.9999999999999951+0j)"
      ]
     },
     "execution_count": 12,
     "metadata": {},
     "output_type": "execute_result"
    }
   ],
   "source": [
    "n_sites = 6  # number of modes/qubits\n",
    "\n",
    "psi=random_FF_state(n_sites,pure=True)\n",
    "np.trace(psi.conj().T @ psi)"
   ]
  },
  {
   "cell_type": "code",
   "execution_count": 15,
   "id": "e464df82-a6d1-4651-8b67-578b3741afba",
   "metadata": {},
   "outputs": [
    {
     "name": "stdout",
     "output_type": "stream",
     "text": [
      "{'n': 6, 'samples': 300, 'trace(rhō)': 0.9999999999999992, 'weight_even': 0.9999999999999992, 'weight_odd': 0.0, 'fro_error_vs_even_max_mixed': 0.05330757292393401}\n",
      "{'n': 6, 'samples': 3000, 'trace(rhō)': 0.9999999999999989, 'weight_even': 0.9999999999999989, 'weight_odd': 0.0, 'fro_error_vs_even_max_mixed': 0.0176278313148393}\n",
      "{'n': 6, 'samples': 10000, 'trace(rhō)': 0.9999999999999991, 'weight_even': 0.9999999999999991, 'weight_odd': 0.0, 'fro_error_vs_even_max_mixed': 0.009929400887173414}\n"
     ]
    }
   ],
   "source": [
    "import numpy as np\n",
    "import numpy.linalg as npl\n",
    "\n",
    "def parity_projectors(n: int):\n",
    "    Z = np.array([[1, 0],[0, -1]], dtype=complex)\n",
    "    P = np.array([[1]], dtype=complex)\n",
    "    for _ in range(n):\n",
    "        P = np.kron(P, Z)                 # parity operator Π_z = ⊗_j Z_j\n",
    "    Id = np.eye(2**n, dtype=complex)\n",
    "    P_even = (Id + P) / 2.0\n",
    "    P_odd  = (Id - P) / 2.0\n",
    "    return P_even, P_odd\n",
    "\n",
    "def test_state_1_design_even_sector(n=6, M=300, seed0=123):\n",
    "    d = 2**n\n",
    "    rng = np.random.default_rng(seed0)\n",
    "    rho_bar = np.zeros((d, d), dtype=complex)\n",
    "\n",
    "    # Monte Carlo average of |psi><psi|\n",
    "    for _ in range(M):\n",
    "        psi = random_FF_state(n, pure=True, seed=int(rng.integers(1<<31)))\n",
    "        psi = np.asarray(psi).reshape(d, 1)     # ensure (d,1)\n",
    "        rho_bar += psi @ psi.conj().T\n",
    "    rho_bar /= M\n",
    "\n",
    "    # Even-parity maximally mixed target\n",
    "    P_even, P_odd = parity_projectors(n)\n",
    "    target = P_even / (2**(n-1))\n",
    "\n",
    "    # Diagnostics\n",
    "    tr = np.trace(rho_bar).real\n",
    "    even_w = np.trace(P_even @ rho_bar).real\n",
    "    odd_w  = np.trace(P_odd  @ rho_bar).real\n",
    "    fro_err = npl.norm(rho_bar - target, ord='fro')\n",
    "\n",
    "    return {\n",
    "        \"n\": n, \"samples\": M,\n",
    "        \"trace(rhō)\": float(tr),\n",
    "        \"weight_even\": float(even_w),\n",
    "        \"weight_odd\": float(odd_w),\n",
    "        \"fro_error_vs_even_max_mixed\": float(fro_err),\n",
    "    }\n",
    "\n",
    "# 300 samples\n",
    "res = test_state_1_design_even_sector(n=6, M=300, seed0=123)\n",
    "print(res)\n",
    "\n",
    "# 3000 samples\n",
    "res = test_state_1_design_even_sector(n=6, M=3000, seed0=123)\n",
    "print(res)\n",
    "\n",
    "# 10000 samples\n",
    "res = test_state_1_design_even_sector(n=6, M=10000, seed0=123)\n",
    "print(res)\n"
   ]
  },
  {
   "cell_type": "markdown",
   "id": "98e8a8fc-5748-41e4-aefa-a274c03d0bb6",
   "metadata": {},
   "source": [
    "# 1-design on the odd/even parity sectors independently"
   ]
  },
  {
   "cell_type": "code",
   "execution_count": 33,
   "id": "2c7ecaa0-e61d-4cc0-a007-a403cf771933",
   "metadata": {},
   "outputs": [
    {
     "name": "stdout",
     "output_type": "stream",
     "text": [
      "‖ρ̄ - Π_odd/2^{n-1}‖_F = 0.008851491398124542\n",
      "tr ρ̄ = 0.9999999999999988  odd weight = 0.9999999999999988\n"
     ]
    }
   ],
   "source": [
    "import numpy as np, numpy.linalg as npl\n",
    "from ff.ff_lib import random_FF_state\n",
    "from ff import jordan_wigner_majoranas\n",
    "\n",
    "def parity_projectors(n):\n",
    "    Z = np.array([[1,0],[0,-1]], complex)\n",
    "    P = np.array([[1]], complex)\n",
    "    for _ in range(n): P = np.kron(P, Z)\n",
    "    Id = np.eye(2**n, dtype=complex)\n",
    "    return (Id+P)/2, (Id-P)/2\n",
    "\n",
    "n, M = 4, 10000\n",
    "P_even, P_odd = parity_projectors(n)\n",
    "gam = jordan_wigner_majoranas(n)  # δ-normalized Majoranas\n",
    "\n",
    "rho_bar = np.zeros((2**n, 2**n), complex)\n",
    "rng = np.random.default_rng(0)\n",
    "\n",
    "for t in range(M):\n",
    "    psi = random_FF_state(n, pure=True, seed=int(rng.integers(1<<31)))  # even sector\n",
    "    psi = np.asarray(psi).reshape(-1,1)\n",
    "    # Flip to odd with a Majorana (keeps Gaussian & makes odd)\n",
    "    psi = gam[0] @ psi\n",
    "    psi /= npl.norm(psi)\n",
    "    rho_bar += psi @ psi.conj().T\n",
    "\n",
    "rho_bar /= M\n",
    "target = P_odd / (2**(n-1))\n",
    "print(\"‖ρ̄ - Π_odd/2^{n-1}‖_F =\", npl.norm(rho_bar - target, 'fro'))\n",
    "print(\"tr ρ̄ =\", np.trace(rho_bar).real, \" odd weight =\", np.trace(P_odd@rho_bar).real)"
   ]
  },
  {
   "cell_type": "code",
   "execution_count": null,
   "id": "27199101-41b6-470b-b6a7-6cbdff56e960",
   "metadata": {},
   "outputs": [],
   "source": []
  }
 ],
 "metadata": {
  "kernelspec": {
   "display_name": "free-fermion",
   "language": "python",
   "name": "free-fermion"
  },
  "language_info": {
   "codemirror_mode": {
    "name": "ipython",
    "version": 3
   },
   "file_extension": ".py",
   "mimetype": "text/x-python",
   "name": "python",
   "nbconvert_exporter": "python",
   "pygments_lexer": "ipython3",
   "version": "3.11.13"
  }
 },
 "nbformat": 4,
 "nbformat_minor": 5
}
